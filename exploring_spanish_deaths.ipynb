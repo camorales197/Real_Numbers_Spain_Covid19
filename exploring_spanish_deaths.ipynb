{
 "cells": [
  {
   "cell_type": "markdown",
   "metadata": {},
   "source": [
    "# Herd Immunity\n",
    "\n",
    "## Objectives\n",
    "The final goal of this project is to answer the following question: \n",
    " - Will Spain reach herd immunity? \n",
    " - When will that happen?  \n",
    "\n",
    "\n",
    "## Steps \n",
    "1. Calculate the increment in the expected number of deaths per day \n",
    "2. Calculate number of real infected people from 2 weeks ago backwards\n",
    "3. Calculate a model that fit the evolution of infected people. The model will give us:\n",
    "     Predictions for real infected and real deaths Ro\n",
    "3. \n",
    "\n",
    "## Disclaimer\n",
    "By no means, you should take the conclusions from this project as statements. I am not a doctor, neither an expert in epidemics. \n",
    "\n",
    "\n",
    "\n"
   ]
  },
  {
   "cell_type": "code",
   "execution_count": null,
   "metadata": {},
   "outputs": [],
   "source": []
  }
 ],
 "metadata": {
  "kernelspec": {
   "display_name": "Python 3",
   "language": "python",
   "name": "python3"
  },
  "language_info": {
   "codemirror_mode": {
    "name": "ipython",
    "version": 3
   },
   "file_extension": ".py",
   "mimetype": "text/x-python",
   "name": "python",
   "nbconvert_exporter": "python",
   "pygments_lexer": "ipython3",
   "version": "3.7.5"
  },
  "toc": {
   "base_numbering": 1,
   "nav_menu": {},
   "number_sections": true,
   "sideBar": true,
   "skip_h1_title": false,
   "title_cell": "Table of Contents",
   "title_sidebar": "Contents",
   "toc_cell": false,
   "toc_position": {},
   "toc_section_display": true,
   "toc_window_display": false
  }
 },
 "nbformat": 4,
 "nbformat_minor": 2
}
